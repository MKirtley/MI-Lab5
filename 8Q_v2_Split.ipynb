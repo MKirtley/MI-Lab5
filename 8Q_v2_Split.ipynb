{
  "cells": [
    {
      "cell_type": "markdown",
      "source": [
        "### Importing jdc so I can run the functions outside of the class cell."
      ],
      "metadata": {
        "id": "FqIRh0KKUmzu"
      }
    },
    {
      "cell_type": "code",
      "source": [
        "pip install jdc"
      ],
      "metadata": {
        "colab": {
          "base_uri": "https://localhost:8080/"
        },
        "id": "gSdy_pz6ThiA",
        "outputId": "e65fc733-fa85-4b4b-c0c1-88cb2ce28d3f"
      },
      "execution_count": null,
      "outputs": [
        {
          "output_type": "stream",
          "name": "stdout",
          "text": [
            "Looking in indexes: https://pypi.org/simple, https://us-python.pkg.dev/colab-wheels/public/simple/\n",
            "Collecting jdc\n",
            "  Downloading jdc-0.0.9-py2.py3-none-any.whl (2.1 kB)\n",
            "Installing collected packages: jdc\n",
            "Successfully installed jdc-0.0.9\n"
          ]
        }
      ]
    },
    {
      "cell_type": "markdown",
      "source": [
        "### Importing required libraries"
      ],
      "metadata": {
        "id": "Q2Bfz2NHUr-m"
      }
    },
    {
      "cell_type": "code",
      "source": [
        "from __future__ import print_function, division\n",
        "import numpy as np\n",
        "from random import Random, random\n",
        "import time\n",
        "import jdc"
      ],
      "metadata": {
        "id": "lUlHC70nT8nH"
      },
      "execution_count": null,
      "outputs": []
    },
    {
      "cell_type": "markdown",
      "source": [
        "#### The State class. It keeps stack of the state, which is a list of 8 integers ranging from 1 to 8.\n",
        "\n",
        "#### The init function saves the class properties to memory and allows the parent values and the generation number to be passed in.\n",
        "\n",
        "#### If there are no parents, the state property initialises itself as a list of random numbers of length 8. If there are parents, they are assigned to the variables parent1 and parent2, set as the parents property, put through the crossover function and the mutate function is then ran with those arguments."
      ],
      "metadata": {
        "id": "sEsobMyvUyV6"
      }
    },
    {
      "cell_type": "code",
      "source": [
        "class State(object):\n",
        "    MUTATION_RATE = 0.08 # Play with this value, higher value means more chance of mutation\n",
        "    def __init__(self, parents=None, generation = 1):\n",
        "        r = Random()\n",
        "        self._fitness = None\n",
        "        self._probability = None\n",
        "        self.generation = generation\n",
        "        \n",
        "        if parents==None:\n",
        "            self.parents = None            \n",
        "            nrow, ncol = 1, 8\n",
        "            uarray= (np.random.permutation(nrow * ncol) + 1)\n",
        "            self.state=uarray.tolist()\n",
        "            \n",
        "        else:            \n",
        "            parent1 = parents[0]\n",
        "            parent2 = parents[1]\n",
        "            self.parents = parents\n",
        "            self.state = self.crossover(parent1, parent2)\n",
        "            self.mutate()"
      ],
      "metadata": {
        "id": "6f5Y_rggUAov"
      },
      "execution_count": null,
      "outputs": []
    },
    {
      "cell_type": "markdown",
      "source": [
        "#### This is measuring the fitness score, which depends on the number of collisions between two queens. \n",
        "\n",
        "#### The state is passed in from the class property to the fitness function. \n",
        "\n",
        "#### It counts the number of times a number in the list matches with another number in the list and divides it by 2 (as two queens would match with each other). It also counts the number of diagonal collisions divided by 2.\n",
        "\n",
        "#### The fitness score is 28 (the maximum number of collisions) minus the sum of horizonal collisions + diagonal collisions.\n",
        "\n",
        "#### It saves the fitness score to the fitness property.\n",
        "\n",
        "#### A solution would have 0 collisions."
      ],
      "metadata": {
        "id": "ZERjBfZsVUuK"
      }
    },
    {
      "cell_type": "code",
      "source": [
        "%%add_to State\n",
        "def fitness(self): \n",
        "        if not self._fitness:\n",
        "            state = self.state\n",
        "            \n",
        "            horizontal_collisions = sum([state.count(col)-1 for col in state])/2\n",
        "    \n",
        "            diagonal_collisions = 0\n",
        "            for i, col in enumerate(state):\n",
        "                for j, diagonal in enumerate(state):\n",
        "                    mod = abs(i-j)\n",
        "                    if mod > 0: #we don't want to count the current queen in a collision with herself\n",
        "                        if diagonal + mod == col or diagonal - mod == col:\n",
        "                            diagonal_collisions += 1\n",
        "            diagonal_collisions /= 2 #we were counting the diagonal collisions double\n",
        "            self._fitness = int(28 - (horizontal_collisions + diagonal_collisions))\n",
        "        return self._fitness"
      ],
      "metadata": {
        "id": "fVt0YA9NUF8p"
      },
      "execution_count": null,
      "outputs": []
    },
    {
      "cell_type": "markdown",
      "source": [
        "#### This is giving each state a probability value based on it's fitness score. The better the fitness score, the higher the probability."
      ],
      "metadata": {
        "id": "RaOKb3T7VXtL"
      }
    },
    {
      "cell_type": "code",
      "source": [
        "%%add_to State\n",
        "def probability(self, population):\n",
        "        if not self._probability:\n",
        "            self._probability = self.fitness() / sum([x.fitness() for x in population])\n",
        "        return self._probability"
      ],
      "metadata": {
        "id": "g5MzVF8xUKso"
      },
      "execution_count": null,
      "outputs": []
    },
    {
      "cell_type": "markdown",
      "source": [
        "#### The crossover function from Version 1. Not used. This is calling in parent 1 and parent 2 and returning a child that has the values of a random split between then."
      ],
      "metadata": {
        "id": "ZkvWMoFQVbhE"
      }
    },
    {
      "cell_type": "code",
      "source": [
        "%%add_to State\n",
        "def crossover_naive(self, parent1, parent2):\n",
        "        r = Random()\n",
        "        crossover_index = r.randint(0,8)\n",
        "        left = parent1.state[0:crossover_index]\n",
        "        right = parent2.state[crossover_index:8]\n",
        "        left.extend(right)\n",
        "        return left"
      ],
      "metadata": {
        "id": "Q3DZbN91UKvh"
      },
      "execution_count": null,
      "outputs": []
    },
    {
      "cell_type": "markdown",
      "source": [
        "#### The crossover function. First it gets a random (0,8) crossover index for both parents. Parent 1 is the left side of the crossover, parent2 is the right. \n",
        "\n",
        "#### Then it extends the missing right values from parent 2 to the right side, and then the missing right values from parent 1 to the right side. So this keeps it in a similar pattern, but changes the order. This can create a list larger than 8 if the left crossover index is too low.\n",
        "\n",
        "#### It then does a while loop to shuffle things further, resulting in up to two splits. \n",
        "\n",
        "#### The values before the first split are the values from the left side, the values after the first split are the values from the right side, preferring to add values that aren’t present before the first slice. If it’s incomplete, the values after the second slice are the first missing values from the parent1.\n"
      ],
      "metadata": {
        "id": "Xuqq_rXTVmtT"
      }
    },
    {
      "cell_type": "code",
      "source": [
        "%%add_to State\n",
        "def crossover(self, parent1, parent2):\n",
        "        r = Random()\n",
        "        crossover_index = r.randint(0,8)\n",
        "        left = parent1.state[0:crossover_index]\n",
        "        \n",
        "        right = parent2.state[crossover_index:8]\n",
        "        right.extend(parent2.state[0:crossover_index])\n",
        "        right.extend(parent1.state[crossover_index:8])\n",
        "        \n",
        "        j=len(left)\n",
        "        k=0\n",
        "        t=0\n",
        "        while j<len(parent1.state):\n",
        "            \n",
        "            if k<len(right):\n",
        "            \n",
        "                if not (right[k] in left):\n",
        "                        left.append(right[k])\n",
        "                        j+=1\n",
        "                k+=1        \n",
        "            else : \n",
        "                a=len(parent1.state)-j\n",
        "                pos=len(right)-(8-crossover_index)-(crossover_index)+1\n",
        "                left.extend(right[pos:pos+a])\n",
        "                j=len(parent1.state)\n",
        "                \n",
        "        return left"
      ],
      "metadata": {
        "id": "dHrxOg14UQTZ"
      },
      "execution_count": null,
      "outputs": []
    },
    {
      "cell_type": "markdown",
      "source": [
        "#### The mutate function from version 1. Not used. For each state, each value has a random chance (depending on MUTATION_RATE) to change one of it's values to a random value between 1 and 8."
      ],
      "metadata": {
        "id": "5nI4MFlHV2BW"
      }
    },
    {
      "cell_type": "code",
      "source": [
        "%%add_to State\n",
        "def mutate_naive(self):\n",
        "        r = Random()\n",
        "        for i in range(len(self.state)):\n",
        "            if random() < State.MUTATION_RATE:\n",
        "                self.state[i] = r.randint(0,8)"
      ],
      "metadata": {
        "id": "Kdl3G36AUQWg"
      },
      "execution_count": null,
      "outputs": []
    },
    {
      "cell_type": "markdown",
      "source": [
        "#### The mutation function. Each value has a 0.08 (MUTATEION_RATE) chance of being selected for mutation. If only 1 value is selected (k being the number of selections), no mutation occurs, if two are selected, the indexes the values are positioned in get swapped."
      ],
      "metadata": {
        "id": "k1qN33chV-Om"
      }
    },
    {
      "cell_type": "code",
      "source": [
        "%%add_to State\n",
        "def mutate(self):\n",
        "        k=0\n",
        "        i=0\n",
        "        pos=[]\n",
        "        while (i < len(self.state)) and (k<=1):\n",
        "            if random() < State.MUTATION_RATE:\n",
        "                pos.append(i)\n",
        "                k+=1\n",
        "            i+=1\n",
        "        if k==2:        \n",
        "            ind1=pos[0]\n",
        "            ind2=pos[1]\n",
        "            temp=self.state[ind1]\n",
        "            self.state[ind1]= self.state[ind2]\n",
        "            self.state[ind2]=temp"
      ],
      "metadata": {
        "id": "MUxiG_F1UVVR"
      },
      "execution_count": null,
      "outputs": []
    },
    {
      "cell_type": "markdown",
      "source": [
        "#### A string representation of the state. This creates a chessboard visualisation of the list in self.state. "
      ],
      "metadata": {
        "id": "4V4OMIZVWMcf"
      }
    },
    {
      "cell_type": "code",
      "source": [
        "%%add_to State\n",
        "def __str__(self):\n",
        "\n",
        "        queen_symbol = '♛'\n",
        "        blank_white_symbol = '▧' \n",
        "        blank_black_symbol = '☐'\n",
        "\n",
        "        _i = np.sum(np.indices((8,8)), axis = 0)\n",
        "        _state = np.where(_i % 2 == 0, 0, 1)\n",
        "      \n",
        "        for i, j in enumerate(self.state):\n",
        "            _state[j - 1, i] = 2\n",
        "\n",
        "        _repr = \"Generation: \" + str(self.generation) + \"\\nFitness: \" + str(self.fitness()) + \"\\n\" + str(self.state) +  \"\\n\"\n",
        "        for h in range(8):\n",
        "            for w in range(8):\n",
        "                _repr += ([blank_white_symbol, blank_black_symbol, queen_symbol][_state[h, w]] + \" \")\n",
        "            _repr += \"\\n\"\n",
        "        return _repr"
      ],
      "metadata": {
        "id": "fMxRBrKYUVYC"
      },
      "execution_count": null,
      "outputs": []
    },
    {
      "cell_type": "markdown",
      "source": [
        "#### Picking random states from the population. Keeping the population as the same number."
      ],
      "metadata": {
        "id": "3W7Nc-XbWPzO"
      }
    },
    {
      "cell_type": "code",
      "source": [
        "%%add_to State\n",
        "def pickRandomByProbability(populationByProbability):\n",
        "    i = 0\n",
        "    selectedState = None\n",
        "    while selectedState == None:\n",
        "        current = populationByProbability[i]\n",
        "        if current[0] <= random():\n",
        "            return current[1]\n",
        "        if i+1 <= len(populationByProbability):\n",
        "            i = 0\n",
        "        else:\n",
        "            i += 1"
      ],
      "metadata": {
        "id": "CTBdH89pUVfp"
      },
      "execution_count": null,
      "outputs": []
    },
    {
      "cell_type": "markdown",
      "source": [
        "#### Creating a new population. The states that have a higher probability have an increased chance of becoming parents in the next population."
      ],
      "metadata": {
        "id": "k5FrCeyxWUWI"
      }
    },
    {
      "cell_type": "code",
      "source": [
        "%%add_to State\n",
        "def generateNextPopulation(population, n):\n",
        "    newPopulation = []\n",
        "    while len(newPopulation) < n:\n",
        "        populationByProbability = [(x.probability(population), x) for x in population]\n",
        "        parent1 = pickRandomByProbability(populationByProbability)\n",
        "        populationByProbability = [x for x in populationByProbability if x[1] != parent1]\n",
        "        parent2 = pickRandomByProbability(populationByProbability)\n",
        "        newPopulation.append(State((parent1, parent2), generation = parent1.generation + 1))\n",
        "    return newPopulation"
      ],
      "metadata": {
        "id": "flbl0LoAUaay"
      },
      "execution_count": null,
      "outputs": []
    },
    {
      "cell_type": "markdown",
      "source": [
        "The main function. This sets the initial values and creates a population list. When a fitness score of 28 has been reached, it shows the solution state. If none of the states in the population have a fitness score of 28, a new population is generated, and it shows the generation number, as well as the state with the max fitness score."
      ],
      "metadata": {
        "id": "0tpZXF4vWZtA"
      }
    },
    {
      "cell_type": "code",
      "source": [
        "if __name__ == '__main__':\n",
        "    populationSize = 50\n",
        "    generation = 0\n",
        "    population = [State(generation = generation) for x in range(populationSize)]\n",
        "    \n",
        "    while not 28 in [x.fitness() for x in population]:\n",
        "        print(\"generation %d Max fitness: %d\" % (generation, max([x.fitness() for x in population])))\n",
        "        population = generateNextPopulation(population, populationSize)\n",
        "        generation += 1\n",
        "\n",
        "    for x in population:\n",
        "        if x.fitness() == 28:            \n",
        "            if x.parents is not None:\n",
        "                print(\"Parents::\")\n",
        "                print(x.parents[0])\n",
        "                print(x.parents[1])\n",
        "            print(\"Solution state: \")\n",
        "            print(x)"
      ],
      "metadata": {
        "colab": {
          "base_uri": "https://localhost:8080/"
        },
        "id": "PKrZ601uUad4",
        "outputId": "b2bb825e-13c6-4e01-d7f6-b7269df54a03"
      },
      "execution_count": null,
      "outputs": [
        {
          "output_type": "stream",
          "name": "stdout",
          "text": [
            "generation 0 Max fitness: 27\n",
            "generation 1 Max fitness: 25\n",
            "generation 2 Max fitness: 24\n",
            "generation 3 Max fitness: 26\n",
            "generation 4 Max fitness: 26\n",
            "generation 5 Max fitness: 25\n",
            "generation 6 Max fitness: 26\n",
            "generation 7 Max fitness: 25\n",
            "generation 8 Max fitness: 25\n",
            "generation 9 Max fitness: 26\n",
            "generation 10 Max fitness: 26\n",
            "generation 11 Max fitness: 25\n",
            "generation 12 Max fitness: 25\n",
            "generation 13 Max fitness: 25\n",
            "generation 14 Max fitness: 25\n",
            "generation 15 Max fitness: 25\n",
            "generation 16 Max fitness: 25\n",
            "generation 17 Max fitness: 25\n",
            "generation 18 Max fitness: 26\n",
            "generation 19 Max fitness: 26\n",
            "generation 20 Max fitness: 26\n",
            "generation 21 Max fitness: 26\n",
            "generation 22 Max fitness: 25\n",
            "generation 23 Max fitness: 25\n",
            "generation 24 Max fitness: 25\n",
            "generation 25 Max fitness: 26\n",
            "generation 26 Max fitness: 24\n",
            "generation 27 Max fitness: 24\n",
            "generation 28 Max fitness: 24\n",
            "generation 29 Max fitness: 26\n",
            "generation 30 Max fitness: 24\n",
            "generation 31 Max fitness: 26\n",
            "generation 32 Max fitness: 25\n",
            "generation 33 Max fitness: 26\n",
            "generation 34 Max fitness: 26\n",
            "generation 35 Max fitness: 24\n",
            "generation 36 Max fitness: 24\n",
            "generation 37 Max fitness: 25\n",
            "generation 38 Max fitness: 24\n",
            "generation 39 Max fitness: 25\n",
            "generation 40 Max fitness: 24\n",
            "generation 41 Max fitness: 24\n",
            "generation 42 Max fitness: 24\n",
            "generation 43 Max fitness: 25\n",
            "generation 44 Max fitness: 27\n",
            "generation 45 Max fitness: 26\n",
            "generation 46 Max fitness: 26\n",
            "generation 47 Max fitness: 26\n",
            "generation 48 Max fitness: 27\n",
            "generation 49 Max fitness: 26\n",
            "generation 50 Max fitness: 25\n",
            "generation 51 Max fitness: 25\n",
            "generation 52 Max fitness: 25\n",
            "generation 53 Max fitness: 25\n",
            "generation 54 Max fitness: 25\n",
            "generation 55 Max fitness: 27\n",
            "generation 56 Max fitness: 25\n",
            "generation 57 Max fitness: 27\n",
            "generation 58 Max fitness: 25\n",
            "generation 59 Max fitness: 24\n",
            "generation 60 Max fitness: 25\n",
            "generation 61 Max fitness: 25\n",
            "generation 62 Max fitness: 24\n",
            "generation 63 Max fitness: 23\n",
            "generation 64 Max fitness: 23\n",
            "generation 65 Max fitness: 23\n",
            "generation 66 Max fitness: 24\n",
            "generation 67 Max fitness: 24\n",
            "generation 68 Max fitness: 24\n",
            "generation 69 Max fitness: 24\n",
            "generation 70 Max fitness: 24\n",
            "generation 71 Max fitness: 23\n",
            "generation 72 Max fitness: 25\n",
            "generation 73 Max fitness: 24\n",
            "generation 74 Max fitness: 24\n",
            "generation 75 Max fitness: 24\n",
            "generation 76 Max fitness: 24\n",
            "generation 77 Max fitness: 22\n",
            "generation 78 Max fitness: 24\n",
            "generation 79 Max fitness: 20\n",
            "generation 80 Max fitness: 24\n",
            "generation 81 Max fitness: 24\n",
            "generation 82 Max fitness: 24\n",
            "generation 83 Max fitness: 25\n",
            "generation 84 Max fitness: 24\n",
            "generation 85 Max fitness: 25\n",
            "generation 86 Max fitness: 24\n",
            "generation 87 Max fitness: 26\n",
            "generation 88 Max fitness: 25\n",
            "generation 89 Max fitness: 26\n",
            "generation 90 Max fitness: 25\n",
            "generation 91 Max fitness: 27\n",
            "generation 92 Max fitness: 26\n",
            "generation 93 Max fitness: 26\n",
            "generation 94 Max fitness: 25\n",
            "generation 95 Max fitness: 25\n",
            "generation 96 Max fitness: 24\n",
            "generation 97 Max fitness: 25\n",
            "generation 98 Max fitness: 24\n",
            "generation 99 Max fitness: 25\n",
            "generation 100 Max fitness: 27\n",
            "generation 101 Max fitness: 25\n",
            "generation 102 Max fitness: 27\n",
            "generation 103 Max fitness: 25\n",
            "generation 104 Max fitness: 25\n",
            "generation 105 Max fitness: 25\n",
            "generation 106 Max fitness: 26\n",
            "generation 107 Max fitness: 27\n",
            "generation 108 Max fitness: 25\n",
            "generation 109 Max fitness: 26\n",
            "generation 110 Max fitness: 27\n",
            "generation 111 Max fitness: 25\n",
            "generation 112 Max fitness: 25\n",
            "generation 113 Max fitness: 24\n",
            "generation 114 Max fitness: 25\n",
            "generation 115 Max fitness: 25\n",
            "generation 116 Max fitness: 27\n",
            "generation 117 Max fitness: 27\n",
            "generation 118 Max fitness: 27\n",
            "generation 119 Max fitness: 27\n",
            "generation 120 Max fitness: 27\n",
            "generation 121 Max fitness: 27\n",
            "generation 122 Max fitness: 26\n",
            "generation 123 Max fitness: 27\n",
            "generation 124 Max fitness: 27\n",
            "generation 125 Max fitness: 25\n",
            "generation 126 Max fitness: 25\n",
            "generation 127 Max fitness: 27\n",
            "generation 128 Max fitness: 27\n",
            "generation 129 Max fitness: 25\n",
            "generation 130 Max fitness: 27\n",
            "generation 131 Max fitness: 24\n",
            "generation 132 Max fitness: 25\n",
            "generation 133 Max fitness: 26\n",
            "generation 134 Max fitness: 26\n",
            "generation 135 Max fitness: 25\n",
            "generation 136 Max fitness: 25\n",
            "generation 137 Max fitness: 26\n",
            "generation 138 Max fitness: 24\n",
            "generation 139 Max fitness: 25\n",
            "generation 140 Max fitness: 26\n",
            "generation 141 Max fitness: 25\n",
            "generation 142 Max fitness: 26\n",
            "generation 143 Max fitness: 24\n",
            "generation 144 Max fitness: 25\n",
            "generation 145 Max fitness: 25\n",
            "generation 146 Max fitness: 27\n",
            "generation 147 Max fitness: 25\n",
            "generation 148 Max fitness: 25\n",
            "generation 149 Max fitness: 26\n",
            "generation 150 Max fitness: 26\n",
            "generation 151 Max fitness: 26\n",
            "generation 152 Max fitness: 25\n",
            "generation 153 Max fitness: 25\n",
            "generation 154 Max fitness: 27\n",
            "generation 155 Max fitness: 25\n",
            "generation 156 Max fitness: 26\n",
            "generation 157 Max fitness: 26\n",
            "generation 158 Max fitness: 26\n",
            "generation 159 Max fitness: 26\n",
            "generation 160 Max fitness: 26\n",
            "generation 161 Max fitness: 26\n",
            "generation 162 Max fitness: 26\n",
            "generation 163 Max fitness: 26\n",
            "generation 164 Max fitness: 26\n",
            "generation 165 Max fitness: 27\n",
            "generation 166 Max fitness: 26\n",
            "generation 167 Max fitness: 26\n",
            "generation 168 Max fitness: 26\n",
            "Parents::\n",
            "Generation: 168\n",
            "Fitness: 25\n",
            "[3, 7, 5, 8, 2, 1, 4, 6]\n",
            "▧ ☐ ▧ ☐ ▧ ♛ ▧ ☐ \n",
            "☐ ▧ ☐ ▧ ♛ ▧ ☐ ▧ \n",
            "♛ ☐ ▧ ☐ ▧ ☐ ▧ ☐ \n",
            "☐ ▧ ☐ ▧ ☐ ▧ ♛ ▧ \n",
            "▧ ☐ ♛ ☐ ▧ ☐ ▧ ☐ \n",
            "☐ ▧ ☐ ▧ ☐ ▧ ☐ ♛ \n",
            "▧ ♛ ▧ ☐ ▧ ☐ ▧ ☐ \n",
            "☐ ▧ ☐ ♛ ☐ ▧ ☐ ▧ \n",
            "\n",
            "Generation: 168\n",
            "Fitness: 25\n",
            "[3, 7, 5, 8, 2, 1, 4, 6]\n",
            "▧ ☐ ▧ ☐ ▧ ♛ ▧ ☐ \n",
            "☐ ▧ ☐ ▧ ♛ ▧ ☐ ▧ \n",
            "♛ ☐ ▧ ☐ ▧ ☐ ▧ ☐ \n",
            "☐ ▧ ☐ ▧ ☐ ▧ ♛ ▧ \n",
            "▧ ☐ ♛ ☐ ▧ ☐ ▧ ☐ \n",
            "☐ ▧ ☐ ▧ ☐ ▧ ☐ ♛ \n",
            "▧ ♛ ▧ ☐ ▧ ☐ ▧ ☐ \n",
            "☐ ▧ ☐ ♛ ☐ ▧ ☐ ▧ \n",
            "\n",
            "Solution state: \n",
            "Generation: 169\n",
            "Fitness: 28\n",
            "[3, 7, 2, 8, 5, 1, 4, 6]\n",
            "▧ ☐ ▧ ☐ ▧ ♛ ▧ ☐ \n",
            "☐ ▧ ♛ ▧ ☐ ▧ ☐ ▧ \n",
            "♛ ☐ ▧ ☐ ▧ ☐ ▧ ☐ \n",
            "☐ ▧ ☐ ▧ ☐ ▧ ♛ ▧ \n",
            "▧ ☐ ▧ ☐ ♛ ☐ ▧ ☐ \n",
            "☐ ▧ ☐ ▧ ☐ ▧ ☐ ♛ \n",
            "▧ ♛ ▧ ☐ ▧ ☐ ▧ ☐ \n",
            "☐ ▧ ☐ ♛ ☐ ▧ ☐ ▧ \n",
            "\n",
            "Parents::\n",
            "Generation: 168\n",
            "Fitness: 25\n",
            "[3, 7, 5, 8, 2, 1, 4, 6]\n",
            "▧ ☐ ▧ ☐ ▧ ♛ ▧ ☐ \n",
            "☐ ▧ ☐ ▧ ♛ ▧ ☐ ▧ \n",
            "♛ ☐ ▧ ☐ ▧ ☐ ▧ ☐ \n",
            "☐ ▧ ☐ ▧ ☐ ▧ ♛ ▧ \n",
            "▧ ☐ ♛ ☐ ▧ ☐ ▧ ☐ \n",
            "☐ ▧ ☐ ▧ ☐ ▧ ☐ ♛ \n",
            "▧ ♛ ▧ ☐ ▧ ☐ ▧ ☐ \n",
            "☐ ▧ ☐ ♛ ☐ ▧ ☐ ▧ \n",
            "\n",
            "Generation: 168\n",
            "Fitness: 25\n",
            "[3, 7, 5, 8, 2, 1, 4, 6]\n",
            "▧ ☐ ▧ ☐ ▧ ♛ ▧ ☐ \n",
            "☐ ▧ ☐ ▧ ♛ ▧ ☐ ▧ \n",
            "♛ ☐ ▧ ☐ ▧ ☐ ▧ ☐ \n",
            "☐ ▧ ☐ ▧ ☐ ▧ ♛ ▧ \n",
            "▧ ☐ ♛ ☐ ▧ ☐ ▧ ☐ \n",
            "☐ ▧ ☐ ▧ ☐ ▧ ☐ ♛ \n",
            "▧ ♛ ▧ ☐ ▧ ☐ ▧ ☐ \n",
            "☐ ▧ ☐ ♛ ☐ ▧ ☐ ▧ \n",
            "\n",
            "Solution state: \n",
            "Generation: 169\n",
            "Fitness: 28\n",
            "[3, 7, 2, 8, 5, 1, 4, 6]\n",
            "▧ ☐ ▧ ☐ ▧ ♛ ▧ ☐ \n",
            "☐ ▧ ♛ ▧ ☐ ▧ ☐ ▧ \n",
            "♛ ☐ ▧ ☐ ▧ ☐ ▧ ☐ \n",
            "☐ ▧ ☐ ▧ ☐ ▧ ♛ ▧ \n",
            "▧ ☐ ▧ ☐ ♛ ☐ ▧ ☐ \n",
            "☐ ▧ ☐ ▧ ☐ ▧ ☐ ♛ \n",
            "▧ ♛ ▧ ☐ ▧ ☐ ▧ ☐ \n",
            "☐ ▧ ☐ ♛ ☐ ▧ ☐ ▧ \n",
            "\n"
          ]
        }
      ]
    }
  ],
  "metadata": {
    "kernelspec": {
      "display_name": "Python 3",
      "language": "python",
      "name": "python3"
    },
    "language_info": {
      "codemirror_mode": {
        "name": "ipython",
        "version": 3
      },
      "file_extension": ".py",
      "mimetype": "text/x-python",
      "name": "python",
      "nbconvert_exporter": "python",
      "pygments_lexer": "ipython3",
      "version": "3.7.6"
    },
    "colab": {
      "provenance": [],
      "collapsed_sections": []
    }
  },
  "nbformat": 4,
  "nbformat_minor": 0
}